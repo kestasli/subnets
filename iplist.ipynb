{
 "cells": [
  {
   "cell_type": "code",
   "execution_count": null,
   "id": "chubby-integer",
   "metadata": {},
   "outputs": [],
   "source": [
    "import pprint as pp\n",
    "import re\n",
    "import ipaddress\n",
    "import os"
   ]
  },
  {
   "cell_type": "code",
   "execution_count": null,
   "id": "civic-jenny",
   "metadata": {},
   "outputs": [],
   "source": [
    "filename = 'VM IP.txt'\n",
    "#filename = 'VM_IP_EE.txt'\n",
    "#filename = 'Gateway IP.txt'\n",
    "#filename = 'VLANS.txt'\n",
    "#filename = 'DNS.txt'\n",
    "\n",
    "vrf = {'10.5.0.0/16':'EE Subnet 1257:515 T2LAN Estonia',\n",
    "       '10.20.0.0/16':'LT Subnet 1257:516- LT-TechNet',\n",
    "       '10.30.0.0/16':'LV Subnet 1257:518 - T2LAN Latvia',\n",
    "       '10.212.0.0/16':'Tele2 Office Estonia',\n",
    "       '10.224.0.0/16':'Tele2 Office Latvia',\n",
    "       '10.214.0.0/16':'Tele2 Office Lithuania'}"
   ]
  },
  {
   "cell_type": "code",
   "execution_count": null,
   "id": "straight-engineering",
   "metadata": {},
   "outputs": [],
   "source": [
    "#print unique IP addresses in sorted list \n",
    "iplist = []\n",
    "namelist = []\n",
    "\n",
    "def ip2vrf(vrf, ip):\n",
    "    for sub in vrf.keys():\n",
    "        #print(sub, vrf[sub])\n",
    "        subnet = ipaddress.ip_network(sub)\n",
    "        if ipaddress.ip_address(ip) in subnet:\n",
    "            return vrf[sub]\n",
    "\n",
    "\n",
    "with open(filename, encoding='utf8') as file:\n",
    "    for line in file:\n",
    "        if line.strip() != '':\n",
    "            \n",
    "            ipline = line.split(',')\n",
    "            ipline = [m.strip() for m in ipline]\n",
    "            \n",
    "            for i in ipline:\n",
    "                try:\n",
    "                    iplist.append(ipaddress.ip_address(i))\n",
    "                except:\n",
    "                    namelist.append(i)\n",
    "                    \n",
    "    sorted_ip = sorted(set(iplist))\n",
    "    sorted_name = sorted(set(namelist))\n",
    "    #pp.pprint(sorted_ip)\n",
    "    for j in sorted_ip:\n",
    "        print(j, '|', ip2vrf(vrf, j))\n",
    "        #print(j)\n",
    "    print('\\nCount IP:', len(sorted_ip))\n",
    "    \n",
    "    for j in sorted_name:\n",
    "        print(j)\n",
    "    print('\\nCount NAME:', len(sorted_name))"
   ]
  },
  {
   "cell_type": "code",
   "execution_count": null,
   "id": "differential-halloween",
   "metadata": {},
   "outputs": [],
   "source": [
    "'''\n",
    "for i in sorted_ip:\n",
    "    status = os.system('ping -n 3 -w 100 ' + str(i))\n",
    "    if status == 1:\n",
    "        print(str(i) + ',DOWN')\n",
    "    if status == 0:\n",
    "        print(str(i) + ',UP')\n",
    "'''"
   ]
  },
  {
   "cell_type": "code",
   "execution_count": null,
   "id": "08b7e8ed",
   "metadata": {},
   "outputs": [],
   "source": [
    "subnet = ipaddress.ip_network('192.168.1.1/255.255.0.0', strict = False)"
   ]
  },
  {
   "cell_type": "code",
   "execution_count": null,
   "id": "f25ae2dc",
   "metadata": {},
   "outputs": [],
   "source": [
    "#ping listed IP's and record status\n",
    "import subprocess\n",
    "\n",
    "def getname(ip):\n",
    "    try:\n",
    "        response = subprocess.check_output(\n",
    "            ['ping', '-a', '-n', '1', ip],\n",
    "            #['nslookup', ip],\n",
    "            stderr=subprocess.STDOUT,  # get all output\n",
    "            universal_newlines=True  # return string not bytes\n",
    "        )\n",
    "    except subprocess.CalledProcessError:\n",
    "        response = None\n",
    "    print(response)"
   ]
  },
  {
   "cell_type": "code",
   "execution_count": null,
   "id": "2414e924",
   "metadata": {},
   "outputs": [],
   "source": [
    "for i in sorted_ip:\n",
    "    getname(str(i))"
   ]
  },
  {
   "cell_type": "code",
   "execution_count": null,
   "id": "8aff16b7",
   "metadata": {},
   "outputs": [],
   "source": []
  }
 ],
 "metadata": {
  "kernelspec": {
   "display_name": "Python 3 (ipykernel)",
   "language": "python",
   "name": "python3"
  },
  "language_info": {
   "codemirror_mode": {
    "name": "ipython",
    "version": 3
   },
   "file_extension": ".py",
   "mimetype": "text/x-python",
   "name": "python",
   "nbconvert_exporter": "python",
   "pygments_lexer": "ipython3",
   "version": "3.10.2"
  }
 },
 "nbformat": 4,
 "nbformat_minor": 5
}
