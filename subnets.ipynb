{
 "cells": [
  {
   "cell_type": "code",
   "execution_count": 3,
   "id": "9da8e43e",
   "metadata": {},
   "outputs": [],
   "source": [
    "#https://www.geeksforgeeks.org/extract-ip-address-from-file-using-python/"
   ]
  },
  {
   "cell_type": "code",
   "execution_count": 4,
   "id": "706222a8",
   "metadata": {},
   "outputs": [],
   "source": [
    "#Parse export from vCenter and create IP subnets table\n",
    "\n",
    "import pprint as pp\n",
    "import re\n",
    "import ipaddress\n",
    "#from mac_vendor_lookup import MacLookup"
   ]
  },
  {
   "cell_type": "code",
   "execution_count": 5,
   "id": "2b5fb08c",
   "metadata": {},
   "outputs": [],
   "source": [
    "#Clean duplicate field from comma separated string\n",
    "def cleandup(ip):\n",
    "    iplist = ip.split(',')\n",
    "    #return ','.join(list(dict.fromkeys(iplist)))\n",
    "    return ','.join(list(set(iplist)))"
   ]
  },
  {
   "cell_type": "code",
   "execution_count": 6,
   "id": "135210ef",
   "metadata": {},
   "outputs": [],
   "source": [
    "#Return range of IP addressess for particular subnet\n",
    "#takes first IP address if there are more IP's separated by coma\n",
    "def getrange(ip, mask):\n",
    "    try:\n",
    "        ip = ip.split(',', 1)[0].strip()\n",
    "        subnet = ipaddress.ip_network((ip, mask), strict = False)\n",
    "        return str(subnet.network_address) + ' - ' +  str(subnet.broadcast_address)\n",
    "    except (ValueError, TypeError):\n",
    "        return('NO VALID IP')"
   ]
  },
  {
   "cell_type": "code",
   "execution_count": 7,
   "id": "74a39987",
   "metadata": {},
   "outputs": [],
   "source": [
    "#Change network format from XXX.YYY.ZZZ.NNN to the short notation with /XX \n",
    "def shortnet(ip, mask):\n",
    "    try:\n",
    "        ip = ip.split(',', 1)[0].strip()\n",
    "        subnet = ipaddress.ip_network((ip, mask), strict = False)\n",
    "        return str(subnet)\n",
    "    except (ValueError, TypeError):\n",
    "        return('NO VALID NETWORK')"
   ]
  },
  {
   "cell_type": "code",
   "execution_count": 8,
   "id": "01d614bd",
   "metadata": {},
   "outputs": [],
   "source": [
    "def uniqueip(iplist, filename):\n",
    "    ipstr = set(iplist)\n",
    "    iplist = []\n",
    "    #Convert IP strings to IpAddress in order to get sorting right\n",
    "    for ip in ipstr:\n",
    "        iplist.append(ipaddress.ip_address(ip))\n",
    "    with open('SORTEDIP_' + filename, 'w', encoding='utf8') as output:\n",
    "        for i in sorted(iplist):\n",
    "            output.write(str(i) + '|' + filename + '\\n')"
   ]
  },
  {
   "cell_type": "code",
   "execution_count": 9,
   "id": "a7fa1521",
   "metadata": {},
   "outputs": [],
   "source": [
    "fields = {'VM':None, 'Host':None, 'OS':None,\n",
    "          'Tools':None, 'NicType':None, 'VLAN':None,\n",
    "          'IP':None, 'Gateway':None, 'Subnet Mask':None,\n",
    "          'Network':None, 'IP range':None,\n",
    "          'DNS':None,'MAC':None, 'File': None}\n",
    "\n",
    "header = ['VM', 'Host', 'OS', 'Tools', 'NicType', 'VLAN',\n",
    "          'IP', 'Gateway', 'Subnet Mask', 'Network', 'IP range', 'DNS','MAC', 'File']"
   ]
  },
  {
   "cell_type": "code",
   "execution_count": 10,
   "id": "89f318cf",
   "metadata": {
    "scrolled": false
   },
   "outputs": [],
   "source": [
    "#tags to mark start and end block\n",
    "starttag = 'VM'\n",
    "endtag = 'MAC'\n",
    "separator = '|'\n",
    "\n",
    "#this is  list for holding ip's parsed from file\n",
    "#other function will make unique sorted list\n",
    "iplist = []\n",
    "\n",
    "#set to true if looping inside start/end block\n",
    "inside = False\n",
    "\n",
    "filename = 'LV_VMs_Network.txt'\n",
    "output = filename + '.csv'\n",
    "\n",
    "with open(filename, encoding='utf8') as file, open(output, 'w', encoding='utf8') as output:\n",
    "    #write csv header\n",
    "    output.write(separator.join(header))\n",
    "    output.write('\\n')\n",
    "    \n",
    "    for row in file:\n",
    "        #inside marker if row starts with start tag\n",
    "        if row.startswith(starttag):\n",
    "            inside = True\n",
    "            \n",
    "        #asign values to the keys while we are inside start-end block\n",
    "        if inside:\n",
    "            row_list = row.split(':', 1)\n",
    "            \n",
    "            #check if split have 2 fields, if only one- field continues on the next line\n",
    "            if len(row_list) == 2:\n",
    "                key = row_list[0].strip()\n",
    "                value = row_list[1].strip()\n",
    "                fields[key] = value\n",
    "            #append rest of next line to the previous key value\n",
    "            else:\n",
    "                fields[key] = fields[key] + row.strip()\n",
    "            \n",
    "            #inside/outside status if endtag is hit\n",
    "            if row.startswith(endtag):\n",
    "                #Add calculated fields\n",
    "                fields['IP range'] = getrange(fields['IP'], fields['Subnet Mask'])\n",
    "                fields['Network'] = shortnet(fields['IP'], fields['Subnet Mask'])\n",
    "                fields['File'] = filename\n",
    "                if fields['IP'] != '':\n",
    "                    iplist = iplist + fields['IP'].split(',')\n",
    "                \n",
    "                #Clean duplicates inside fields and write to file\n",
    "                csv_string = ''\n",
    "                for m in header:\n",
    "                    csv_string = csv_string + cleandup(fields[m]).strip() + separator\n",
    "                csv_string = csv_string + '\\n'\n",
    "                output.write(csv_string)\n",
    "                #Set status to indicate we are outside start/end tags\n",
    "                inside = False\n",
    "\n",
    "#write unique IP's to the file\n",
    "uniqueip(iplist, filename)"
   ]
  },
  {
   "cell_type": "code",
   "execution_count": 16,
   "id": "spatial-hours",
   "metadata": {},
   "outputs": [],
   "source": [
    "#Create summary subnets when given first and last IP address\n",
    "def summarize_ip(ipfile):\n",
    "    iplist = []\n",
    "    with open(ipfile, encoding='utf8') as f:\n",
    "        for line in f:\n",
    "            iplist.append(ipaddress.ip_address(line.split('|')[0].strip()))\n",
    "        #remove duplicates\n",
    "        iplist = list(dict.fromkeys(iplist))\n",
    "            \n",
    "    ip_min = min(iplist)\n",
    "    ip_max = max(iplist)\n",
    "    \n",
    "    print('MIN:', ip_min, 'MAX:', ip_max, '\\n')\n",
    "    for m in sorted(iplist):\n",
    "        print(m)\n",
    "    print()\n",
    "    \n",
    "    ip_range = ipaddress.summarize_address_range(ip_min, ip_max)\n",
    "    for i in ip_range:\n",
    "        #print(i, list(i.hosts()))\n",
    "        print(i, ',', i.network_address, '-', i.broadcast_address)"
   ]
  },
  {
   "cell_type": "code",
   "execution_count": 1,
   "id": "bibliographic-sixth",
   "metadata": {},
   "outputs": [],
   "source": [
    "#summarize_ip('SORTEDIP_LT_VMs_Network.txt')"
   ]
  },
  {
   "cell_type": "code",
   "execution_count": null,
   "id": "f1319e73",
   "metadata": {},
   "outputs": [],
   "source": []
  },
  {
   "cell_type": "code",
   "execution_count": null,
   "id": "573ce7b2",
   "metadata": {},
   "outputs": [],
   "source": []
  },
  {
   "cell_type": "code",
   "execution_count": 12,
   "id": "australian-maintenance",
   "metadata": {},
   "outputs": [
    {
     "ename": "FileNotFoundError",
     "evalue": "[Errno 2] No such file or directory: '10.5.64.0.txt'",
     "output_type": "error",
     "traceback": [
      "\u001b[1;31m---------------------------------------------------------------------------\u001b[0m",
      "\u001b[1;31mFileNotFoundError\u001b[0m                         Traceback (most recent call last)",
      "Input \u001b[1;32mIn [12]\u001b[0m, in \u001b[0;36m<module>\u001b[1;34m\u001b[0m\n\u001b[0;32m     11\u001b[0m     \u001b[38;5;28;01mreturn\u001b[39;00m iplist\n\u001b[0;32m     13\u001b[0m \u001b[38;5;66;03m#take list of IP addressess and fit them into predefines net divided into subnets (offset)\u001b[39;00m\n\u001b[1;32m---> 14\u001b[0m iplist \u001b[38;5;241m=\u001b[39m \u001b[43mread_ip\u001b[49m\u001b[43m(\u001b[49m\u001b[38;5;124;43m'\u001b[39;49m\u001b[38;5;124;43m10.5.64.0.txt\u001b[39;49m\u001b[38;5;124;43m'\u001b[39;49m\u001b[43m)\u001b[49m\n\u001b[0;32m     15\u001b[0m ipnetwork \u001b[38;5;241m=\u001b[39m \u001b[38;5;124m'\u001b[39m\u001b[38;5;124m10.5.64.0/24\u001b[39m\u001b[38;5;124m'\u001b[39m\n\u001b[0;32m     16\u001b[0m offset \u001b[38;5;241m=\u001b[39m \u001b[38;5;241m2\u001b[39m\n",
      "Input \u001b[1;32mIn [12]\u001b[0m, in \u001b[0;36mread_ip\u001b[1;34m(ipfile)\u001b[0m\n\u001b[0;32m      2\u001b[0m \u001b[38;5;28;01mdef\u001b[39;00m \u001b[38;5;21mread_ip\u001b[39m(ipfile):\n\u001b[0;32m      3\u001b[0m     iplist \u001b[38;5;241m=\u001b[39m {}\n\u001b[1;32m----> 4\u001b[0m     \u001b[38;5;28;01mwith\u001b[39;00m \u001b[38;5;28;43mopen\u001b[39;49m\u001b[43m(\u001b[49m\u001b[43mipfile\u001b[49m\u001b[43m,\u001b[49m\u001b[43m \u001b[49m\u001b[43mencoding\u001b[49m\u001b[38;5;241;43m=\u001b[39;49m\u001b[38;5;124;43m'\u001b[39;49m\u001b[38;5;124;43mutf8\u001b[39;49m\u001b[38;5;124;43m'\u001b[39;49m\u001b[43m)\u001b[49m \u001b[38;5;28;01mas\u001b[39;00m f:\n\u001b[0;32m      5\u001b[0m         \u001b[38;5;28;01mfor\u001b[39;00m line \u001b[38;5;129;01min\u001b[39;00m f:\n\u001b[0;32m      6\u001b[0m             pair \u001b[38;5;241m=\u001b[39m line\u001b[38;5;241m.\u001b[39msplit(\u001b[38;5;124m'\u001b[39m\u001b[38;5;130;01m\\t\u001b[39;00m\u001b[38;5;124m'\u001b[39m)\n",
      "\u001b[1;31mFileNotFoundError\u001b[0m: [Errno 2] No such file or directory: '10.5.64.0.txt'"
     ]
    }
   ],
   "source": [
    "#Read file with IP addressess and migration status (comma separated) and return dictionary\n",
    "def read_ip(ipfile):\n",
    "    iplist = {}\n",
    "    with open(ipfile, encoding='utf8') as f:\n",
    "        for line in f:\n",
    "            pair = line.split('\\t')\n",
    "            key = pair[0].strip()\n",
    "            value = pair[1].strip()\n",
    "            iplist[key]= value\n",
    "            #iplist.append(ipaddress.ip_address(line.strip()))\n",
    "    return iplist\n",
    "\n",
    "#take list of IP addressess and fit them into predefines net divided into subnets (offset)\n",
    "iplist = read_ip('10.5.64.0.txt')\n",
    "ipnetwork = '10.5.64.0/24'\n",
    "offset = 2\n",
    "\n",
    "subnets = list(ipaddress.ip_network(ipnetwork, strict = False).subnets(offset))\n",
    "for net in subnets:\n",
    "    \n",
    "    network = net.network_address\n",
    "    broadcast = net.broadcast_address\n",
    "    \n",
    "    print(net, str(network), '-', str(broadcast), '\\n')\n",
    "    for ip_s in iplist.keys():\n",
    "        ip = ipaddress.ip_address(ip_s)\n",
    "        if ip in net:\n",
    "            #check if IP address is same as broadcast or subnet\n",
    "            if ip == network or ip == broadcast:\n",
    "                warn = '*'\n",
    "            else:\n",
    "                warn = ''\n",
    "            print(ip_s, iplist[ip_s], warn)\n",
    "    print()"
   ]
  },
  {
   "cell_type": "code",
   "execution_count": null,
   "id": "addressed-option",
   "metadata": {},
   "outputs": [],
   "source": []
  }
 ],
 "metadata": {
  "kernelspec": {
   "display_name": "Python 3 (ipykernel)",
   "language": "python",
   "name": "python3"
  },
  "language_info": {
   "codemirror_mode": {
    "name": "ipython",
    "version": 3
   },
   "file_extension": ".py",
   "mimetype": "text/x-python",
   "name": "python",
   "nbconvert_exporter": "python",
   "pygments_lexer": "ipython3",
   "version": "3.10.2"
  }
 },
 "nbformat": 4,
 "nbformat_minor": 5
}
